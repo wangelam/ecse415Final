{
  "nbformat": 4,
  "nbformat_minor": 0,
  "metadata": {
    "colab": {
      "provenance": [],
      "machine_shape": "hm",
      "gpuType": "A100"
    },
    "kernelspec": {
      "name": "python3",
      "display_name": "Python 3"
    },
    "language_info": {
      "name": "python"
    }
  },
  "cells": [
    {
      "cell_type": "markdown",
      "source": [
        "# 4.2 Supervised Learning with"
      ],
      "metadata": {
        "id": "QF1bLait-N15"
      }
    },
    {
      "cell_type": "code",
      "execution_count": null,
      "metadata": {
        "id": "7OBc1_g59NqL"
      },
      "outputs": [],
      "source": [
        "import os\n",
        "import sys\n",
        "import re\n",
        "import csv\n",
        "import cv2 as cv\n",
        "import numpy as np\n",
        "import matplotlib.pyplot as plt\n",
        "from sklearn.ensemble import RandomForestClassifier\n",
        "from sklearn.metrics import accuracy_score, classification_report"
      ]
    },
    {
      "cell_type": "markdown",
      "source": [
        "## Load image paths from google drive. To use the local files, change `google_path` to `.`"
      ],
      "metadata": {
        "id": "IBWc-GP2956B"
      }
    },
    {
      "cell_type": "code",
      "source": [
        "google_path = '/content/drive/MyDrive'\n",
        "path = os.path.join(google_path, 'QC')\n",
        "train_test_path = os.path.join(path, 'split')\n",
        "mask_path = os.path.join(path, \"mask\")\n",
        "rgb_path = os.path.join(path, \"rgb\")\n",
        "\n",
        "# Load training and validation csv files\n",
        "def load_subjects(csv_path):\n",
        "    with open(csv_path, newline='') as f:\n",
        "        reader = csv.reader(f)\n",
        "        subjects = list(reader)\n",
        "    return subjects[1:]\n",
        "\n",
        "train_subjects = load_subjects(os.path.join(train_test_path, 'train_subjects.csv'))\n",
        "val_subjects = load_subjects(os.path.join(train_test_path, 'validate_subjects.csv'))"
      ],
      "metadata": {
        "id": "e0yd4IaP9RAo"
      },
      "execution_count": null,
      "outputs": []
    },
    {
      "cell_type": "markdown",
      "source": [
        "## Load images and masks and make transformations"
      ],
      "metadata": {
        "id": "jjoZzI79ZDbw"
      }
    },
    {
      "cell_type": "code",
      "source": [
        "# Match images with the labels in the csv file\n",
        "def get_image_mask_pairs(subjects):\n",
        "    images = []\n",
        "    masks = []\n",
        "    for patient in subjects:\n",
        "        for file in os.listdir(rgb_path):\n",
        "            if re.match(patient[0], file):\n",
        "                images.append(os.path.join(rgb_path, file))\n",
        "                masks.append(os.path.join(mask_path, file))\n",
        "    return images, masks\n",
        "\n",
        "train_images, train_masks = get_image_mask_pairs(train_subjects)\n",
        "val_images, val_masks = get_image_mask_pairs(val_subjects)\n",
        "\n",
        "# Extract features and labels for training and validation sets\n",
        "def extract_features_labels(images, masks, target_size=(256, 256)):\n",
        "    X, Y = [], []\n",
        "    for img_path, mask_path in zip(images, masks):\n",
        "\n",
        "        # Resize the images and masks to pack them into one string\n",
        "        img = cv.imread(img_path, cv.IMREAD_GRAYSCALE)\n",
        "        img_resized = cv.resize(img, target_size)\n",
        "\n",
        "        # Extract the class label for each pixel\n",
        "        mask_color = cv.imread(mask_path, cv.IMREAD_COLOR)\n",
        "        mask_resized = cv.resize(mask_color, target_size)\n",
        "        mask_labels = mask_resized[:, :, 0]\n",
        "        # Convet the nonzero labels into 1 to create a binary mask\n",
        "        mask_labels = (mask_labels > 0).astype(np.float32)\n",
        "\n",
        "        # Flatten them to lower the dimensions\n",
        "        X.append(img_resized.flatten())\n",
        "        Y.append(mask_labels.flatten())\n",
        "\n",
        "    X = np.concatenate(X, axis=0).reshape(-1, 1)\n",
        "    Y = np.concatenate(Y, axis=0)\n",
        "    return X, Y\n",
        "\n",
        "x_train, y_train = extract_features_labels(train_images, train_masks)\n",
        "x_val, y_val = extract_features_labels(val_images, val_masks)"
      ],
      "metadata": {
        "collapsed": true,
        "id": "bHm8PDKzZHw6"
      },
      "execution_count": null,
      "outputs": []
    },
    {
      "cell_type": "markdown",
      "source": [
        "## Train and evaluate the random forest model"
      ],
      "metadata": {
        "id": "aLCRZI0gZY1n"
      }
    },
    {
      "cell_type": "code",
      "source": [
        "clf = RandomForestClassifier(n_estimators=50, random_state=42, n_jobs=-1)\n",
        "clf.fit(x_train, y_train)\n",
        "\n",
        "# Predict on training and validation set\n",
        "y_train_pred = clf.predict(x_train)\n",
        "y_val_pred = clf.predict(x_val)\n",
        "\n",
        "# Evaluate performance\n",
        "train_accuracy = accuracy_score(y_train, y_train_pred)\n",
        "val_accuracy = accuracy_score(y_val, y_val_pred)\n",
        "\n",
        "print(f\"Training Accuracy: {train_accuracy:.4f}\")\n",
        "print(\"Validation Accuracy: {val_accuracy:.4f}\")\n",
        "print(\"\\nTraining Classification Report:\\n\", classification_report(y_train, y_train_pred))\n",
        "print(\"\\nValidation Classification Report:\\n\", classification_report(y_val, y_val_pred))"
      ],
      "metadata": {
        "id": "8fyCU7pbZb76"
      },
      "execution_count": null,
      "outputs": []
    },
    {
      "cell_type": "markdown",
      "source": [
        "## Show sample images"
      ],
      "metadata": {
        "id": "5vntP5-NaPLR"
      }
    },
    {
      "cell_type": "code",
      "source": [
        "for i in range(3):\n",
        "    img = cv.imread(val_images[i])\n",
        "    true_mask = cv.imread(val_masks[i], cv.IMREAD_GRAYSCALE)\n",
        "    pred_mask = y_pred[i * len(y_pred) // 3: (i + 1) * len(y_pred) // 3].reshape(true_mask.shape)\n",
        "\n",
        "    fig, axes = plt.subplots(1, 3, figsize=(15, 5))\n",
        "    axes[0].imshow(img)\n",
        "    axes[0].set_title(\"Original Image\")\n",
        "    axes[1].imshow(true_mask, cmap=\"gray\")\n",
        "    axes[1].set_title(\"Ground Truth Mask\")\n",
        "    axes[2].imshow(pred_mask, cmap=\"gray\")\n",
        "    axes[2].set_title(\"Predicted Mask\")\n",
        "    plt.show()"
      ],
      "metadata": {
        "id": "caLPwwV8aSHW"
      },
      "execution_count": null,
      "outputs": []
    }
  ]
}